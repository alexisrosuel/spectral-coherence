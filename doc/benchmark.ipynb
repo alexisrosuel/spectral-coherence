{
 "cells": [
  {
   "cell_type": "markdown",
   "metadata": {},
   "source": [
    "# Compute the speed of the ``density`` and ``coherence`` functions"
   ]
  },
  {
   "cell_type": "code",
   "execution_count": 4,
   "metadata": {},
   "outputs": [],
   "source": [
    "import mlx.core as mx\n",
    "from spectral_coherence import (\n",
    "    half_smoothed_periodograms,\n",
    "    half_coherences,\n",
    "    smoothed_periodograms,\n",
    "    coherences,\n",
    ")"
   ]
  },
  {
   "cell_type": "code",
   "execution_count": 2,
   "metadata": {},
   "outputs": [],
   "source": [
    "# generate a sample 2D array\n",
    "n_samples, n_features = 3000, 50\n",
    "x = mx.random.normal((n_samples, n_features))\n",
    "\n",
    "# define once the smoothing parameter used in the computation of the spectral density and coherency matrices\n",
    "B = 101"
   ]
  },
  {
   "cell_type": "markdown",
   "metadata": {},
   "source": [
    "# Computation of spectral density and coherency matrices"
   ]
  },
  {
   "cell_type": "code",
   "execution_count": 3,
   "metadata": {},
   "outputs": [
    {
     "name": "stdout",
     "output_type": "stream",
     "text": [
      "8.33 ms ± 146 μs per loop (mean ± std. dev. of 7 runs, 100 loops each)\n"
     ]
    }
   ],
   "source": [
    "%%timeit \n",
    "hS_hats, freqs = half_smoothed_periodograms(x, B)\n",
    "mx.eval(hS_hats)"
   ]
  },
  {
   "cell_type": "code",
   "execution_count": 4,
   "metadata": {},
   "outputs": [
    {
     "name": "stdout",
     "output_type": "stream",
     "text": [
      "8.67 ms ± 177 μs per loop (mean ± std. dev. of 7 runs, 100 loops each)\n"
     ]
    }
   ],
   "source": [
    "%%timeit \n",
    "S_hats, freqs = smoothed_periodograms(x, B)\n",
    "mx.eval(S_hats)"
   ]
  },
  {
   "cell_type": "code",
   "execution_count": 5,
   "metadata": {},
   "outputs": [
    {
     "name": "stdout",
     "output_type": "stream",
     "text": [
      "8.84 ms ± 37.3 μs per loop (mean ± std. dev. of 7 runs, 100 loops each)\n"
     ]
    }
   ],
   "source": [
    "%%timeit \n",
    "hC_hats, freqs = half_coherences(x, B)\n",
    "mx.eval(hC_hats)"
   ]
  },
  {
   "cell_type": "code",
   "execution_count": 6,
   "metadata": {},
   "outputs": [
    {
     "name": "stdout",
     "output_type": "stream",
     "text": [
      "9.18 ms ± 6.27 μs per loop (mean ± std. dev. of 7 runs, 100 loops each)\n"
     ]
    }
   ],
   "source": [
    "%%timeit \n",
    "C_hats, freqs = coherences(x, B)\n",
    "mx.eval(C_hats)"
   ]
  },
  {
   "cell_type": "code",
   "execution_count": 6,
   "metadata": {},
   "outputs": [],
   "source": [
    "import numpy as np\n",
    "from spectral_coherence import smoothed_periodograms, coherences \n",
    "\n",
    "# generate M independent AR(1) processes with different parameters\n",
    "n_samples, n_features = 1000, 4\n",
    "thetas = np.linspace(-0.7, 0.7, n_features)\n",
    "epsilon = np.random.normal(size=(n_samples, n_features))\n",
    "y = np.zeros((n_samples, n_features))\n",
    "y[0, :] = epsilon[0, :]\n",
    "for t in range(1, n_samples):\n",
    "    y[t, :] = thetas * y[t-1, :] + epsilon[t, :]\n",
    "\n",
    "y = mx.array(y)\n",
    "\n",
    "# estimate the spectral density and the coherence from the sample \n",
    "S_hats, freqs = smoothed_periodograms(y, B=31)\n",
    "C_hats, freqs = coherences(y, B=31)"
   ]
  },
  {
   "cell_type": "code",
   "execution_count": null,
   "metadata": {},
   "outputs": [],
   "source": []
  }
 ],
 "metadata": {
  "kernelspec": {
   "display_name": "Python 3",
   "language": "python",
   "name": "python3"
  },
  "language_info": {
   "codemirror_mode": {
    "name": "ipython",
    "version": 3
   },
   "file_extension": ".py",
   "mimetype": "text/x-python",
   "name": "python",
   "nbconvert_exporter": "python",
   "pygments_lexer": "ipython3",
   "version": "3.12.5"
  }
 },
 "nbformat": 4,
 "nbformat_minor": 2
}
